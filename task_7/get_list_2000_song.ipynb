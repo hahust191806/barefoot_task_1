{
 "cells": [
  {
   "cell_type": "markdown",
   "metadata": {},
   "source": [
    "### Crawl 1000 bài hát rap từ 2017-2018"
   ]
  },
  {
   "cell_type": "code",
   "execution_count": null,
   "metadata": {},
   "outputs": [],
   "source": [
    "import spotipy\n",
    "from spotipy.oauth2 import SpotifyClientCredentials\n",
    "\n",
    "client_credentials_manager = SpotifyClientCredentials(client_id='8f136fd89ed141f787a74b0a26a801dc', client_secret='5168366b750e4e8f802ba9f8d6e6b7cd')\n",
    "sp = spotipy.Spotify(client_credentials_manager=client_credentials_manager)\n",
    "\n",
    "tracks = []\n",
    "offset = 0\n",
    "while len(tracks) < 1000:\n",
    "    results = sp.search(q='genre:rap year:2017-2018', type='track', limit=50, offset=offset)\n",
    "    tracks += results['tracks']['items']\n",
    "    offset += 50\n",
    "\n",
    "with open(\"list_songs_1000_1718.txt\", \"w\") as f:\n",
    "    for track in tracks:\n",
    "        track_name = track['name']\n",
    "        track_id = track['id']\n",
    "        f.write(str(track_name) + \" \" + str(track_id) + \" \" + str(track['external_urls']['spotify']) + \"\\n\")"
   ]
  },
  {
   "cell_type": "markdown",
   "metadata": {},
   "source": [
    "### Crawl 1000 bài hát rap từ 2019-2020"
   ]
  },
  {
   "cell_type": "code",
   "execution_count": null,
   "metadata": {},
   "outputs": [],
   "source": [
    "import spotipy\n",
    "from spotipy.oauth2 import SpotifyClientCredentials\n",
    "\n",
    "client_credentials_manager = SpotifyClientCredentials(client_id='8f136fd89ed141f787a74b0a26a801dc', client_secret='5168366b750e4e8f802ba9f8d6e6b7cd')\n",
    "sp = spotipy.Spotify(client_credentials_manager=client_credentials_manager)\n",
    "\n",
    "tracks = []\n",
    "offset = 0\n",
    "while len(tracks) < 1000:\n",
    "    results = sp.search(q='genre:rap year:2019-2020', type='track', limit=50, offset=offset)\n",
    "    tracks += results['tracks']['items']\n",
    "    offset += 50\n",
    "\n",
    "with open(\"list_songs_1000_1920.txt\", \"w\") as f:\n",
    "    for track in tracks:\n",
    "        track_name = track['name']\n",
    "        track_id = track['id']\n",
    "        f.write(str(track_name) + \" \" + str(track_id) + \" \" + str(track['external_urls']['spotify']) + \"\\n\")"
   ]
  },
  {
   "cell_type": "markdown",
   "metadata": {},
   "source": [
    "### Kiểm tra có trùng lặp không, sau đó nối lại thành file mới"
   ]
  },
  {
   "cell_type": "code",
   "execution_count": null,
   "metadata": {},
   "outputs": [],
   "source": [
    "# check bài hát trùng lặp trong 2 danh sách\n",
    "with open(\"/content/list_songs_1000_1718.txt\", \"r\") as f:\n",
    "  list_songs_1000_1718 = f.readlines()\n",
    "\n",
    "print(len(list_songs_1000_1718))\n",
    "\n",
    "with open(\"/content/list_songs_1000_1920.txt\", \"r\") as f:\n",
    "  list_songs_1000_1920 = f.readlines()\n",
    "\n",
    "print(len(list_songs_1000_1920))\n",
    "\n",
    "set1 = set(list_songs_1000_1718)\n",
    "set2 = set(list_songs_1000_1920)\n",
    "\n",
    "common_elements = set1 & set2\n",
    "\n",
    "if common_elements:\n",
    "    print(\"Các phần tử trùng nhau là:\")\n",
    "    for element in common_elements:\n",
    "        print(element)\n",
    "else:\n",
    "    print(\"Không có phần tử trùng nhau.\")"
   ]
  },
  {
   "cell_type": "code",
   "execution_count": null,
   "metadata": {},
   "outputs": [],
   "source": [
    "# nối 2 list lại\n",
    "list_2000_tracks_name = list_songs_1000_1718 + list_songs_1000_1920\n",
    "print(len(list_2000_tracks_name))\n",
    "\n",
    "# import ra file txt\n",
    "with open(\"list_2000_tracks_name.txt\", \"w\") as f:\n",
    "  for track in list_2000_tracks_name:\n",
    "    f.write(track)"
   ]
  }
 ],
 "metadata": {
  "kernelspec": {
   "display_name": "venv",
   "language": "python",
   "name": "python3"
  },
  "language_info": {
   "name": "python",
   "version": "3.10.10"
  },
  "orig_nbformat": 4
 },
 "nbformat": 4,
 "nbformat_minor": 2
}
