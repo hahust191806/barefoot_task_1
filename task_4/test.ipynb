{
 "cells": [
  {
   "cell_type": "code",
   "execution_count": 4,
   "metadata": {},
   "outputs": [],
   "source": [
    "from db import dbQuery"
   ]
  },
  {
   "cell_type": "code",
   "execution_count": 5,
   "metadata": {},
   "outputs": [],
   "source": [
    "# Khởi tạo dbQuery object\n",
    "dbquery = dbQuery()"
   ]
  },
  {
   "cell_type": "code",
   "execution_count": 20,
   "metadata": {},
   "outputs": [
    {
     "name": "stdout",
     "output_type": "stream",
     "text": [
      "Select method test\n",
      "[['1']]\n",
      "[['1', 'Duc']]\n",
      "[['1', 'Duc', '15072000']]\n",
      "[['1', 'Duc', '15072000', '123']]\n",
      "\n",
      "\n",
      "Where method test\n",
      "[['1', 'Duc', '15072000', '123']]\n",
      "[['2', 'Dat', '24122000', '124']]\n",
      "[['3', 'Ha', '01102001', '125']]\n",
      "[['4', 'Dong', '19062001', '126']]\n",
      "\n",
      "\n",
      "From method test\n",
      "From table students_data.txt\n",
      "[['01', 'UUXAIO', '10/06', '8003707']]\n",
      "\n",
      "\n"
     ]
    }
   ],
   "source": [
    "# get select method()\n",
    "\n",
    "# select method\n",
    "print('Select method test')\n",
    "print(dbquery.select(['ID']).where('ID', 1).from_table('students.txt').get())\n",
    "print(dbquery.select(['ID', 'Name']).where('ID', 1).from_table('students.txt').get())\n",
    "print(dbquery.select(['ID', 'Name', 'Birthday']).where('ID', 1).from_table('students.txt').get())\n",
    "print(dbquery.select(['ID', 'Name', 'Birthday', 'Phone_Number']).where('ID', 1).from_table('students.txt').get())\n",
    "print('\\n')\n",
    "\n",
    "# where method\n",
    "print('Where method test')\n",
    "print(dbquery.select(['ID', 'Name', 'Birthday', 'Phone_Number']).where('ID', 1).from_table('students.txt').get())\n",
    "print(dbquery.select(['ID', 'Name', 'Birthday', 'Phone_Number']).where('ID', 2).from_table('students.txt').get())\n",
    "print(dbquery.select(['ID', 'Name', 'Birthday', 'Phone_Number']).where('ID', 3).from_table('students.txt').get())\n",
    "print(dbquery.select(['ID', 'Name', 'Birthday', 'Phone_Number']).where('ID', 4).from_table('students.txt').get())\n",
    "print('\\n')\n",
    "\n",
    "# from_table method\n",
    "print('From method test')\n",
    "print('From table students_data.txt')\n",
    "print(dbquery.select(['ID', 'Name', 'Birthday', 'Phone_Number']).where('ID', '01').from_table('students_data.txt').get())\n",
    "print('\\n')\n",
    "\n",
    "# insert method\n",
    "print('From method test')\n",
    "dbquery.insert(table_name='students.txt', data=[5, \"Linh\", \"26062001\", \"127\"])\n",
    "print('Done!')\n",
    "print('\\n')\n",
    "\n",
    "# update method\n",
    "print('Update method test')\n",
    "dbquery.where(column_name='ID', value=2).update(table_name='students.txt', data=[\"2\", \"Dat\", \"24122000\", \"546\"])\n",
    "print('Update with ID done!')\n",
    "dbquery.where(column_name='Name', value='Ha').update(table_name='students.txt', data=[\"3\", \"Hai\", \"01102001\", \"126\"])\n",
    "print('Update with Name done!')\n",
    "dbquery.where(column_name='Birthday', value='01102001').update(table_name='students.txt', data=[\"3\", \"Ha\", \"01102001\", \"126\"])\n",
    "print('Update with Birthday done!')\n",
    "dbquery.where(column_name='Phone_Number', value='123').update(table_name='students.txt', data=[\"1\", \"Duc\", \"01102001\", \"425\"])\n",
    "print('Update with Phone_Number done!')\n",
    "print('\\n')\n",
    "\n",
    "# detele method\n",
    "print('Detele method test')\n",
    "dbquery.where(column_name='ID', value=1).delete('students.txt')\n",
    "print('Detele with ID done!')\n",
    "dbquery.where(column_name='Name', value='Ha').delete('students.txt')\n",
    "print('Detele with Name done!')\n",
    "dbquery.where(column_name='Birthday', value='01102001').delete('students.txt')\n",
    "print('Detele with Birthday done!')\n",
    "dbquery.where(column_name='Phone_Number', value='123').delete('students.txt')\n",
    "print('Detele with Phone_Number done!')\n",
    "print('\\n')"
   ]
  }
 ],
 "metadata": {
  "kernelspec": {
   "display_name": "venv",
   "language": "python",
   "name": "python3"
  },
  "language_info": {
   "codemirror_mode": {
    "name": "ipython",
    "version": 3
   },
   "file_extension": ".py",
   "mimetype": "text/x-python",
   "name": "python",
   "nbconvert_exporter": "python",
   "pygments_lexer": "ipython3",
   "version": "3.10.10"
  },
  "orig_nbformat": 4
 },
 "nbformat": 4,
 "nbformat_minor": 2
}
