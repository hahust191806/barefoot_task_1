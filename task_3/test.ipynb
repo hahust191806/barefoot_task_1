{
 "cells": [
  {
   "cell_type": "code",
   "execution_count": 2,
   "metadata": {},
   "outputs": [
    {
     "name": "stdout",
     "output_type": "stream",
     "text": [
      "Thời gian tìm kiếm: 0.00 giây\n"
     ]
    }
   ],
   "source": [
    "import os \n",
    "import time \n",
    "from db import dbQuery\n",
    "import numpy as np \n",
    "import pandas as pd \n",
    "import random\n",
    "from faker import Faker\n",
    "import csv\n",
    "import random\n",
    "import string"
   ]
  },
  {
   "cell_type": "markdown",
   "metadata": {},
   "source": [
    "### Generate data"
   ]
  },
  {
   "cell_type": "code",
   "execution_count": null,
   "metadata": {},
   "outputs": [],
   "source": [
    "classes = [\"K66CB\", \"K67NN\", \"K77CB\", \"K65CB\"]\n",
    "students = []\n",
    "\n",
    "names = set()\n",
    "\n",
    "while len(students) < 1000000:\n",
    "    student_id = str(len(students)+1).zfill(2)\n",
    "    name = \"\"\n",
    "    while name == \"\" or name in names:\n",
    "        name_length = random.randint(4, 10)\n",
    "        name = ''.join(random.choice(string.ascii_uppercase) for _ in range(name_length))\n",
    "    names.add(name)\n",
    "    month = str(random.randint(1, 12)).zfill(2)\n",
    "    day = str(random.randint(1, 28)).zfill(2)\n",
    "    phone = str(random.randint(1000000, 9999999)).zfill(7)\n",
    "    class_code = random.choice(classes)\n",
    "    student = \"|\".join([student_id, name, month+\"/\"+day, phone, class_code])\n",
    "    students.append(student)\n",
    "\n",
    "students_data = \"\\n\".join(students)\n",
    "\n",
    "# Write data to file\n",
    "with open(\"students_data.txt\", \"w\") as f:\n",
    "    f.write(students_data)"
   ]
  },
  {
   "cell_type": "code",
   "execution_count": null,
   "metadata": {},
   "outputs": [],
   "source": [
    "# Thử test trường hợp xử lý nhiều dữ liệu\n",
    "# Thử ghi 1 triệu sinh viên vào file, ID từ 1 đến 1.000.000\n",
    "# test insert() method\n",
    "dbquery = dbQuery()\n",
    "\n",
    "fake = Faker()\n",
    "\n",
    "# khởi tạo vòng lặp for để điền dữ liệu \n",
    "for i in range(0,1000000):\n",
    "    name = fake.name()\n",
    "    phonenb = str((np.random.randint(100000, 999999, 1)).tolist()).strip('[]')\n",
    "    dbquery.insert(table_name='students.txt', data=[i, name, str(i), phonenb])"
   ]
  },
  {
   "cell_type": "markdown",
   "metadata": {},
   "source": [
    "### Thời gian tìm kiếm khi truy vấn chưa sử dụng Index"
   ]
  },
  {
   "cell_type": "code",
   "execution_count": 3,
   "metadata": {},
   "outputs": [
    {
     "name": "stdout",
     "output_type": "stream",
     "text": [
      "Thời gian tìm kiếm: 1.16 giây\n"
     ]
    }
   ],
   "source": [
    "# Mở file và tìm kiếm hàng có ID bằng giá trị 669416\n",
    "with open('students_data.txt', 'r') as file:\n",
    "    reader = csv.reader(file, delimiter='|')\n",
    "    start_time = time.time()\n",
    "    for row in reader:\n",
    "        if row[0] == 669416:\n",
    "            result = row\n",
    "            break\n",
    "    end_time = time.time()\n",
    "    \n",
    "elapsed_time = end_time - start_time\n",
    "    \n",
    "print(f\"Thời gian tìm kiếm: {elapsed_time:.2f} giây\")"
   ]
  },
  {
   "cell_type": "markdown",
   "metadata": {},
   "source": [
    "### Thời gian tìm kiếm khi truy vấn sử dụng Index"
   ]
  },
  {
   "cell_type": "code",
   "execution_count": 4,
   "metadata": {},
   "outputs": [
    {
     "name": "stdout",
     "output_type": "stream",
     "text": [
      "Thời gian tìm kiếm: 0.00 giây\n"
     ]
    }
   ],
   "source": [
    "db_use_index = dbQuery()\n",
    "db_use_index.create_index(table_name='students_data.txt', column_name='ID')\n",
    "start_time = time.time()\n",
    "db_use_index.select_use_index(column_name='ID', value=669416)\n",
    "end_time = time.time()\n",
    "\n",
    "elapsed_time = end_time - start_time\n",
    "    \n",
    "print(f\"Thời gian tìm kiếm: {elapsed_time:.2f} giây\")"
   ]
  }
 ],
 "metadata": {
  "kernelspec": {
   "display_name": "venv",
   "language": "python",
   "name": "python3"
  },
  "language_info": {
   "codemirror_mode": {
    "name": "ipython",
    "version": 3
   },
   "file_extension": ".py",
   "mimetype": "text/x-python",
   "name": "python",
   "nbconvert_exporter": "python",
   "pygments_lexer": "ipython3",
   "version": "3.10.10"
  },
  "orig_nbformat": 4
 },
 "nbformat": 4,
 "nbformat_minor": 2
}
