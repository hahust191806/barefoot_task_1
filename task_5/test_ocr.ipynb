{
 "cells": [
  {
   "cell_type": "code",
   "execution_count": 9,
   "metadata": {},
   "outputs": [],
   "source": [
    "import base64\n",
    "from time import sleep\n",
    "import cv2\n",
    "import requests\n",
    "from PIL import Image\n",
    " \n",
    "\n",
    "\n",
    "def solve_captcha(uri):\n",
    "    gif_file_path = uri\n",
    "\n",
    "    with open(gif_file_path, 'rb') as file:\n",
    "        imgcontent = file.read()\n",
    "        \n",
    "    data = {\n",
    "        \"clientKey\": \"438230e974574a76828d65b4efbe4493\",\n",
    "        \"task\": {\n",
    "            \"type\": \"ImageToTextTask\",\n",
    "            \"body\": base64.b64encode(imgcontent).decode(\"utf-8\")\n",
    "        }\n",
    "    }\n",
    "    get_id = requests.post('https://api.anycaptcha.com/createTask', json=data, headers={'Host': 'api.anycaptcha.com', 'Content-Type': 'application/json'}).json()\n",
    "    taskId = get_id.get('taskId')\n",
    "    payload = {\n",
    "        'clientKey': '438230e974574a76828d65b4efbe4493',\n",
    "        'taskId': taskId\n",
    "    }\n",
    "    while True:\n",
    "        sleep(0.5)\n",
    "        response = requests.post('https://api.anycaptcha.com/getTaskResult', json=payload,\n",
    "                                 headers={'Host': 'api.anycaptcha.com', 'Content-Type': 'application/json'}).json()\n",
    "        if response.get('status') == 'processing':\n",
    "            pass\n",
    "        elif response.get('status') == 'ERROR_CAPTCHA_UNSOLVABLE':\n",
    "            break\n",
    "        else:\n",
    "            return response.get('solution').get('text')"
   ]
  },
  {
   "cell_type": "code",
   "execution_count": 13,
   "metadata": {},
   "outputs": [
    {
     "name": "stdout",
     "output_type": "stream",
     "text": [
      "axyqahor\n"
     ]
    }
   ],
   "source": [
    "print(solve_captcha('captcha.gif'))"
   ]
  },
  {
   "cell_type": "code",
   "execution_count": 11,
   "metadata": {},
   "outputs": [
    {
     "ename": "NameError",
     "evalue": "name '__file__' is not defined",
     "output_type": "error",
     "traceback": [
      "\u001b[1;31m---------------------------------------------------------------------------\u001b[0m",
      "\u001b[1;31mNameError\u001b[0m                                 Traceback (most recent call last)",
      "Cell \u001b[1;32mIn[11], line 9\u001b[0m\n\u001b[0;32m      6\u001b[0m filename \u001b[39m=\u001b[39m \u001b[39m'\u001b[39m\u001b[39mten_file_anh.gif\u001b[39m\u001b[39m'\u001b[39m\n\u001b[0;32m      8\u001b[0m \u001b[39m# Đường dẫn tuyệt đối đến thư mục hiện tại của chương trình\u001b[39;00m\n\u001b[1;32m----> 9\u001b[0m folder_path \u001b[39m=\u001b[39m os\u001b[39m.\u001b[39mpath\u001b[39m.\u001b[39mabspath(os\u001b[39m.\u001b[39mpath\u001b[39m.\u001b[39mdirname(\u001b[39m__file__\u001b[39;49m))\n\u001b[0;32m     11\u001b[0m \u001b[39m# Đường dẫn tới file ảnh trong thư mục hiện tại\u001b[39;00m\n\u001b[0;32m     12\u001b[0m image_path \u001b[39m=\u001b[39m os\u001b[39m.\u001b[39mpath\u001b[39m.\u001b[39mjoin(folder_path, filename)\n",
      "\u001b[1;31mNameError\u001b[0m: name '__file__' is not defined"
     ]
    }
   ],
   "source": [
    "import os\n",
    "\n",
    "url = 'https://us1.badoo.com/hidden?euri=peHsJsbIu6Dz1pyPM7xmFnMiSj.wwEy0G.yjK2ACmECFVehwY08t0CQCyzEDL8nf4Vy9hjEfGnrxI7NKm91xFwqru1isR.VNf4D9nPik5o1L4CmlOKBb1X2o0yq2CiNBADKmkJR23nnDwv38zEIzo-YlobHBXFsNAe6zAT-VsLHtbOU-YghL7IuxNuxotHpsZWcf-VStmO4'\n",
    "\n",
    "# Tên file ảnh\n",
    "filename = 'ten_file_anh.gif'\n",
    "\n",
    "# Đường dẫn tuyệt đối đến thư mục hiện tại của chương trình\n",
    "folder_path = os.path.abspath(os.path.dirname(__file__))\n",
    "\n",
    "# Đường dẫn tới file ảnh trong thư mục hiện tại\n",
    "image_path = os.path.join(folder_path, filename)\n",
    "\n",
    "# Gửi yêu cầu GET để tải ảnh từ đường dẫn\n",
    "response = requests.get(url)\n",
    "\n",
    "# Lưu ảnh vào file ảnh\n",
    "with open(image_path, 'wb') as f:\n",
    "    f.write(response.content)\n",
    "    \n",
    "solve_captcha('captcha.gif')"
   ]
  },
  {
   "cell_type": "code",
   "execution_count": 12,
   "metadata": {},
   "outputs": [
    {
     "ename": "TesseractNotFoundError",
     "evalue": "tesseract is not installed or it's not in your PATH. See README file for more information.",
     "output_type": "error",
     "traceback": [
      "\u001b[1;31m---------------------------------------------------------------------------\u001b[0m",
      "\u001b[1;31mFileNotFoundError\u001b[0m                         Traceback (most recent call last)",
      "File \u001b[1;32mc:\\Users\\Kieu Trung Ha\\Desktop\\internship\\venv\\lib\\site-packages\\pytesseract\\pytesseract.py:255\u001b[0m, in \u001b[0;36mrun_tesseract\u001b[1;34m(input_filename, output_filename_base, extension, lang, config, nice, timeout)\u001b[0m\n\u001b[0;32m    254\u001b[0m \u001b[39mtry\u001b[39;00m:\n\u001b[1;32m--> 255\u001b[0m     proc \u001b[39m=\u001b[39m subprocess\u001b[39m.\u001b[39mPopen(cmd_args, \u001b[39m*\u001b[39m\u001b[39m*\u001b[39msubprocess_args())\n\u001b[0;32m    256\u001b[0m \u001b[39mexcept\u001b[39;00m \u001b[39mOSError\u001b[39;00m \u001b[39mas\u001b[39;00m e:\n",
      "File \u001b[1;32m~\\miniconda3\\lib\\subprocess.py:971\u001b[0m, in \u001b[0;36mPopen.__init__\u001b[1;34m(self, args, bufsize, executable, stdin, stdout, stderr, preexec_fn, close_fds, shell, cwd, env, universal_newlines, startupinfo, creationflags, restore_signals, start_new_session, pass_fds, user, group, extra_groups, encoding, errors, text, umask, pipesize)\u001b[0m\n\u001b[0;32m    968\u001b[0m             \u001b[39mself\u001b[39m\u001b[39m.\u001b[39mstderr \u001b[39m=\u001b[39m io\u001b[39m.\u001b[39mTextIOWrapper(\u001b[39mself\u001b[39m\u001b[39m.\u001b[39mstderr,\n\u001b[0;32m    969\u001b[0m                     encoding\u001b[39m=\u001b[39mencoding, errors\u001b[39m=\u001b[39merrors)\n\u001b[1;32m--> 971\u001b[0m     \u001b[39mself\u001b[39;49m\u001b[39m.\u001b[39;49m_execute_child(args, executable, preexec_fn, close_fds,\n\u001b[0;32m    972\u001b[0m                         pass_fds, cwd, env,\n\u001b[0;32m    973\u001b[0m                         startupinfo, creationflags, shell,\n\u001b[0;32m    974\u001b[0m                         p2cread, p2cwrite,\n\u001b[0;32m    975\u001b[0m                         c2pread, c2pwrite,\n\u001b[0;32m    976\u001b[0m                         errread, errwrite,\n\u001b[0;32m    977\u001b[0m                         restore_signals,\n\u001b[0;32m    978\u001b[0m                         gid, gids, uid, umask,\n\u001b[0;32m    979\u001b[0m                         start_new_session)\n\u001b[0;32m    980\u001b[0m \u001b[39mexcept\u001b[39;00m:\n\u001b[0;32m    981\u001b[0m     \u001b[39m# Cleanup if the child failed starting.\u001b[39;00m\n",
      "File \u001b[1;32m~\\miniconda3\\lib\\subprocess.py:1440\u001b[0m, in \u001b[0;36mPopen._execute_child\u001b[1;34m(self, args, executable, preexec_fn, close_fds, pass_fds, cwd, env, startupinfo, creationflags, shell, p2cread, p2cwrite, c2pread, c2pwrite, errread, errwrite, unused_restore_signals, unused_gid, unused_gids, unused_uid, unused_umask, unused_start_new_session)\u001b[0m\n\u001b[0;32m   1439\u001b[0m \u001b[39mtry\u001b[39;00m:\n\u001b[1;32m-> 1440\u001b[0m     hp, ht, pid, tid \u001b[39m=\u001b[39m _winapi\u001b[39m.\u001b[39;49mCreateProcess(executable, args,\n\u001b[0;32m   1441\u001b[0m                              \u001b[39m# no special security\u001b[39;49;00m\n\u001b[0;32m   1442\u001b[0m                              \u001b[39mNone\u001b[39;49;00m, \u001b[39mNone\u001b[39;49;00m,\n\u001b[0;32m   1443\u001b[0m                              \u001b[39mint\u001b[39;49m(\u001b[39mnot\u001b[39;49;00m close_fds),\n\u001b[0;32m   1444\u001b[0m                              creationflags,\n\u001b[0;32m   1445\u001b[0m                              env,\n\u001b[0;32m   1446\u001b[0m                              cwd,\n\u001b[0;32m   1447\u001b[0m                              startupinfo)\n\u001b[0;32m   1448\u001b[0m \u001b[39mfinally\u001b[39;00m:\n\u001b[0;32m   1449\u001b[0m     \u001b[39m# Child is launched. Close the parent's copy of those pipe\u001b[39;00m\n\u001b[0;32m   1450\u001b[0m     \u001b[39m# handles that only the child should have open.  You need\u001b[39;00m\n\u001b[1;32m   (...)\u001b[0m\n\u001b[0;32m   1453\u001b[0m     \u001b[39m# pipe will not close when the child process exits and the\u001b[39;00m\n\u001b[0;32m   1454\u001b[0m     \u001b[39m# ReadFile will hang.\u001b[39;00m\n",
      "\u001b[1;31mFileNotFoundError\u001b[0m: [WinError 2] The system cannot find the file specified",
      "\nDuring handling of the above exception, another exception occurred:\n",
      "\u001b[1;31mTesseractNotFoundError\u001b[0m                    Traceback (most recent call last)",
      "Cell \u001b[1;32mIn[12], line 8\u001b[0m\n\u001b[0;32m      5\u001b[0m image \u001b[39m=\u001b[39m Image\u001b[39m.\u001b[39mopen(\u001b[39m'\u001b[39m\u001b[39mcaptcha.gif\u001b[39m\u001b[39m'\u001b[39m)\n\u001b[0;32m      7\u001b[0m \u001b[39m# Đọc ký tự từ ảnh\u001b[39;00m\n\u001b[1;32m----> 8\u001b[0m text \u001b[39m=\u001b[39m pytesseract\u001b[39m.\u001b[39;49mimage_to_string(image)\n\u001b[0;32m     10\u001b[0m \u001b[39m# In kết quả\u001b[39;00m\n\u001b[0;32m     11\u001b[0m \u001b[39mprint\u001b[39m(text)\n",
      "File \u001b[1;32mc:\\Users\\Kieu Trung Ha\\Desktop\\internship\\venv\\lib\\site-packages\\pytesseract\\pytesseract.py:423\u001b[0m, in \u001b[0;36mimage_to_string\u001b[1;34m(image, lang, config, nice, output_type, timeout)\u001b[0m\n\u001b[0;32m    418\u001b[0m \u001b[39m\u001b[39m\u001b[39m\"\"\"\u001b[39;00m\n\u001b[0;32m    419\u001b[0m \u001b[39mReturns the result of a Tesseract OCR run on the provided image to string\u001b[39;00m\n\u001b[0;32m    420\u001b[0m \u001b[39m\"\"\"\u001b[39;00m\n\u001b[0;32m    421\u001b[0m args \u001b[39m=\u001b[39m [image, \u001b[39m'\u001b[39m\u001b[39mtxt\u001b[39m\u001b[39m'\u001b[39m, lang, config, nice, timeout]\n\u001b[1;32m--> 423\u001b[0m \u001b[39mreturn\u001b[39;00m {\n\u001b[0;32m    424\u001b[0m     Output\u001b[39m.\u001b[39;49mBYTES: \u001b[39mlambda\u001b[39;49;00m: run_and_get_output(\u001b[39m*\u001b[39;49m(args \u001b[39m+\u001b[39;49m [\u001b[39mTrue\u001b[39;49;00m])),\n\u001b[0;32m    425\u001b[0m     Output\u001b[39m.\u001b[39;49mDICT: \u001b[39mlambda\u001b[39;49;00m: {\u001b[39m'\u001b[39;49m\u001b[39mtext\u001b[39;49m\u001b[39m'\u001b[39;49m: run_and_get_output(\u001b[39m*\u001b[39;49margs)},\n\u001b[0;32m    426\u001b[0m     Output\u001b[39m.\u001b[39;49mSTRING: \u001b[39mlambda\u001b[39;49;00m: run_and_get_output(\u001b[39m*\u001b[39;49margs),\n\u001b[0;32m    427\u001b[0m }[output_type]()\n",
      "File \u001b[1;32mc:\\Users\\Kieu Trung Ha\\Desktop\\internship\\venv\\lib\\site-packages\\pytesseract\\pytesseract.py:426\u001b[0m, in \u001b[0;36mimage_to_string.<locals>.<lambda>\u001b[1;34m()\u001b[0m\n\u001b[0;32m    418\u001b[0m \u001b[39m\u001b[39m\u001b[39m\"\"\"\u001b[39;00m\n\u001b[0;32m    419\u001b[0m \u001b[39mReturns the result of a Tesseract OCR run on the provided image to string\u001b[39;00m\n\u001b[0;32m    420\u001b[0m \u001b[39m\"\"\"\u001b[39;00m\n\u001b[0;32m    421\u001b[0m args \u001b[39m=\u001b[39m [image, \u001b[39m'\u001b[39m\u001b[39mtxt\u001b[39m\u001b[39m'\u001b[39m, lang, config, nice, timeout]\n\u001b[0;32m    423\u001b[0m \u001b[39mreturn\u001b[39;00m {\n\u001b[0;32m    424\u001b[0m     Output\u001b[39m.\u001b[39mBYTES: \u001b[39mlambda\u001b[39;00m: run_and_get_output(\u001b[39m*\u001b[39m(args \u001b[39m+\u001b[39m [\u001b[39mTrue\u001b[39;00m])),\n\u001b[0;32m    425\u001b[0m     Output\u001b[39m.\u001b[39mDICT: \u001b[39mlambda\u001b[39;00m: {\u001b[39m'\u001b[39m\u001b[39mtext\u001b[39m\u001b[39m'\u001b[39m: run_and_get_output(\u001b[39m*\u001b[39margs)},\n\u001b[1;32m--> 426\u001b[0m     Output\u001b[39m.\u001b[39mSTRING: \u001b[39mlambda\u001b[39;00m: run_and_get_output(\u001b[39m*\u001b[39;49margs),\n\u001b[0;32m    427\u001b[0m }[output_type]()\n",
      "File \u001b[1;32mc:\\Users\\Kieu Trung Ha\\Desktop\\internship\\venv\\lib\\site-packages\\pytesseract\\pytesseract.py:288\u001b[0m, in \u001b[0;36mrun_and_get_output\u001b[1;34m(image, extension, lang, config, nice, timeout, return_bytes)\u001b[0m\n\u001b[0;32m    277\u001b[0m \u001b[39mwith\u001b[39;00m save(image) \u001b[39mas\u001b[39;00m (temp_name, input_filename):\n\u001b[0;32m    278\u001b[0m     kwargs \u001b[39m=\u001b[39m {\n\u001b[0;32m    279\u001b[0m         \u001b[39m'\u001b[39m\u001b[39minput_filename\u001b[39m\u001b[39m'\u001b[39m: input_filename,\n\u001b[0;32m    280\u001b[0m         \u001b[39m'\u001b[39m\u001b[39moutput_filename_base\u001b[39m\u001b[39m'\u001b[39m: temp_name,\n\u001b[1;32m   (...)\u001b[0m\n\u001b[0;32m    285\u001b[0m         \u001b[39m'\u001b[39m\u001b[39mtimeout\u001b[39m\u001b[39m'\u001b[39m: timeout,\n\u001b[0;32m    286\u001b[0m     }\n\u001b[1;32m--> 288\u001b[0m     run_tesseract(\u001b[39m*\u001b[39m\u001b[39m*\u001b[39mkwargs)\n\u001b[0;32m    289\u001b[0m     filename \u001b[39m=\u001b[39m \u001b[39mf\u001b[39m\u001b[39m\"\u001b[39m\u001b[39m{\u001b[39;00mkwargs[\u001b[39m'\u001b[39m\u001b[39moutput_filename_base\u001b[39m\u001b[39m'\u001b[39m]\u001b[39m}\u001b[39;00m\u001b[39m{\u001b[39;00mextsep\u001b[39m}\u001b[39;00m\u001b[39m{\u001b[39;00mextension\u001b[39m}\u001b[39;00m\u001b[39m\"\u001b[39m\n\u001b[0;32m    290\u001b[0m     \u001b[39mwith\u001b[39;00m \u001b[39mopen\u001b[39m(filename, \u001b[39m'\u001b[39m\u001b[39mrb\u001b[39m\u001b[39m'\u001b[39m) \u001b[39mas\u001b[39;00m output_file:\n",
      "File \u001b[1;32mc:\\Users\\Kieu Trung Ha\\Desktop\\internship\\venv\\lib\\site-packages\\pytesseract\\pytesseract.py:260\u001b[0m, in \u001b[0;36mrun_tesseract\u001b[1;34m(input_filename, output_filename_base, extension, lang, config, nice, timeout)\u001b[0m\n\u001b[0;32m    258\u001b[0m         \u001b[39mraise\u001b[39;00m\n\u001b[0;32m    259\u001b[0m     \u001b[39melse\u001b[39;00m:\n\u001b[1;32m--> 260\u001b[0m         \u001b[39mraise\u001b[39;00m TesseractNotFoundError()\n\u001b[0;32m    262\u001b[0m \u001b[39mwith\u001b[39;00m timeout_manager(proc, timeout) \u001b[39mas\u001b[39;00m error_string:\n\u001b[0;32m    263\u001b[0m     \u001b[39mif\u001b[39;00m proc\u001b[39m.\u001b[39mreturncode:\n",
      "\u001b[1;31mTesseractNotFoundError\u001b[0m: tesseract is not installed or it's not in your PATH. See README file for more information."
     ]
    }
   ],
   "source": [
    "import pytesseract\n",
    "from PIL import Image\n",
    "\n",
    "# Load ảnh\n",
    "image = Image.open('captcha.gif')\n",
    "\n",
    "# Đọc ký tự từ ảnh\n",
    "text = pytesseract.image_to_string(image)\n",
    "\n",
    "# In kết quả\n",
    "print(text)"
   ]
  },
  {
   "cell_type": "code",
   "execution_count": null,
   "metadata": {},
   "outputs": [],
   "source": [
    "<div class=\"select-field has-placeholder js-signup-day\" data-placeholder=\"Ngày\" data-qa=\"select-dob-date\">            <input type=\"hidden\" name=\"day\" value=\"\" class=\"select-field__value\">            <div class=\"select-field__label\" tabindex=\"0\">                <span class=\"select-field__label-text\">Ngày</span>            </div>            <div class=\"select-field__icon\">                <i class=\"icon icon--xsm\">                    <svg class=\"icon__svg\" aria-hidden=\"true\">                        <use xlink:href=\"#elements-input-dropdown\"></use>                    </svg>                </i>            </div>            <div class=\"dropdown dropdown--select\" data-direction=\"bottom\">                <div class=\"dropdown__options\">                    <div class=\"scroll scroll--dynamic scroll--top\" style=\"max-height: 320px;\">\n",
    "            <div class=\"scroll__inner\" tabindex=\"-1\" style=\"margin-right: 0px;\"><ul class=\"options\">                                                <li class=\"option\" data-value=\"1\" data-qa-value=\"1\">                            <div class=\"option__in\">                                <span class=\"option__txt\">01</span>                            </div>                        </li>                                                <li class=\"option\" data-value=\"2\" data-qa-value=\"2\">                            <div class=\"option__in\">                                <span class=\"option__txt\">02</span>                            </div>                        </li>                                                <li class=\"option\" data-value=\"3\" data-qa-value=\"3\">                            <div class=\"option__in\">                                <span class=\"option__txt\">03</span>                            </div>                        </li>                                                <li class=\"option\" data-value=\"4\" data-qa-value=\"4\">                            <div class=\"option__in\">                                <span class=\"option__txt\">04</span>                            </div>                        </li>                                                <li class=\"option\" data-value=\"5\" data-qa-value=\"5\">                            <div class=\"option__in\">                                <span class=\"option__txt\">05</span>                            </div>                        </li>                                                <li class=\"option\" data-value=\"6\" data-qa-value=\"6\">                            <div class=\"option__in\">                                <span class=\"option__txt\">06</span>                            </div>                        </li>                                                <li class=\"option\" data-value=\"7\" data-qa-value=\"7\">                            <div class=\"option__in\">                                <span class=\"option__txt\">07</span>                            </div>                        </li>                                                <li class=\"option\" data-value=\"8\" data-qa-value=\"8\">                            <div class=\"option__in\">                                <span class=\"option__txt\">08</span>                            </div>                        </li>                                                <li class=\"option\" data-value=\"9\" data-qa-value=\"9\">                            <div class=\"option__in\">                                <span class=\"option__txt\">09</span>                            </div>                        </li>                                                <li class=\"option\" data-value=\"10\" data-qa-value=\"10\">                            <div class=\"option__in\">                                <span class=\"option__txt\">10</span>                            </div>                        </li>                                                <li class=\"option\" data-value=\"11\" data-qa-value=\"11\">                            <div class=\"option__in\">                                <span class=\"option__txt\">11</span>                            </div>                        </li>                                                <li class=\"option\" data-value=\"12\" data-qa-value=\"12\">                            <div class=\"option__in\">                                <span class=\"option__txt\">12</span>                            </div>                        </li>                                                <li class=\"option\" data-value=\"13\" data-qa-value=\"13\">                            <div class=\"option__in\">                                <span class=\"option__txt\">13</span>                            </div>                        </li>                                                <li class=\"option\" data-value=\"14\" data-qa-value=\"14\">                            <div class=\"option__in\">                                <span class=\"option__txt\">14</span>                            </div>                        </li>                                                <li class=\"option\" data-value=\"15\" data-qa-value=\"15\">                            <div class=\"option__in\">                                <span class=\"option__txt\">15</span>                            </div>                        </li>                                                <li class=\"option\" data-value=\"16\" data-qa-value=\"16\">                            <div class=\"option__in\">                                <span class=\"option__txt\">16</span>                            </div>                        </li>                                                <li class=\"option\" data-value=\"17\" data-qa-value=\"17\">                            <div class=\"option__in\">                                <span class=\"option__txt\">17</span>                            </div>                        </li>                                                <li class=\"option\" data-value=\"18\" data-qa-value=\"18\">                            <div class=\"option__in\">                                <span class=\"option__txt\">18</span>                            </div>                        </li>                                                <li class=\"option\" data-value=\"19\" data-qa-value=\"19\">                            <div class=\"option__in\">                                <span class=\"option__txt\">19</span>                            </div>                        </li>                                                <li class=\"option\" data-value=\"20\" data-qa-value=\"20\">                            <div class=\"option__in\">                                <span class=\"option__txt\">20</span>                            </div>                        </li>                                                <li class=\"option\" data-value=\"21\" data-qa-value=\"21\">                            <div class=\"option__in\">                                <span class=\"option__txt\">21</span>                            </div>                        </li>                                                <li class=\"option\" data-value=\"22\" data-qa-value=\"22\">                            <div class=\"option__in\">                                <span class=\"option__txt\">22</span>                            </div>                        </li>                                                <li class=\"option\" data-value=\"23\" data-qa-value=\"23\">                            <div class=\"option__in\">                                <span class=\"option__txt\">23</span>                            </div>                        </li>                                                <li class=\"option\" data-value=\"24\" data-qa-value=\"24\">                            <div class=\"option__in\">                                <span class=\"option__txt\">24</span>                            </div>                        </li>                                                <li class=\"option\" data-value=\"25\" data-qa-value=\"25\">                            <div class=\"option__in\">                                <span class=\"option__txt\">25</span>                            </div>                        </li>                                                <li class=\"option\" data-value=\"26\" data-qa-value=\"26\">                            <div class=\"option__in\">                                <span class=\"option__txt\">26</span>                            </div>                        </li>                                                <li class=\"option\" data-value=\"27\" data-qa-value=\"27\">                            <div class=\"option__in\">                                <span class=\"option__txt\">27</span>                            </div>                        </li>                                                <li class=\"option\" data-value=\"28\" data-qa-value=\"28\">                            <div class=\"option__in\">                                <span class=\"option__txt\">28</span>                            </div>                        </li>                                                <li class=\"option\" data-value=\"29\" data-qa-value=\"29\">                            <div class=\"option__in\">                                <span class=\"option__txt\">29</span>                            </div>                        </li>                                                <li class=\"option\" data-value=\"30\" data-qa-value=\"30\">                            <div class=\"option__in\">                                <span class=\"option__txt\">30</span>                            </div>                        </li>                                                <li class=\"option\" data-value=\"31\" data-qa-value=\"31\">                            <div class=\"option__in\">                                <span class=\"option__txt\">31</span>                            </div>                        </li>                                            </ul></div>\n",
    "            <div class=\"scroll__track\">\n",
    "                <div class=\"scroll__thumb\" style=\"height: 82.5806px; top: 0px;\"></div>\n",
    "            </div>\n",
    "        </div>                </div>            </div>        </div>"
   ]
  }
 ],
 "metadata": {
  "kernelspec": {
   "display_name": "venv",
   "language": "python",
   "name": "python3"
  },
  "language_info": {
   "codemirror_mode": {
    "name": "ipython",
    "version": 3
   },
   "file_extension": ".py",
   "mimetype": "text/x-python",
   "name": "python",
   "nbconvert_exporter": "python",
   "pygments_lexer": "ipython3",
   "version": "3.10.10"
  },
  "orig_nbformat": 4
 },
 "nbformat": 4,
 "nbformat_minor": 2
}
