{
 "cells": [
  {
   "cell_type": "markdown",
   "metadata": {},
   "source": [
    "### QR code detection"
   ]
  },
  {
   "cell_type": "code",
   "execution_count": 5,
   "metadata": {},
   "outputs": [],
   "source": [
    "import cv2\n",
    "import numpy as np\n",
    "\n",
    "img = cv2.imread('/content/drive/MyDrive/qr_codes_extract/input.jpeg')\n",
    "\n",
    "# tạo bản copy từ hình ảnh đọc được \n",
    "og = img.copy()\n",
    "\n",
    "# tạo ảnh gray \n",
    "gray = np.zeros((img.shape[0], img.shape[1]), dtype=np.uint8)\n",
    "gray = cv2.cvtColor(img, cv2.COLOR_BGR2GRAY)\n",
    "\n",
    "# làm mờ ảnh \n",
    "gaussianblur = cv2.GaussianBlur(gray, (7,7), 0)\n",
    "\n",
    "# phân ngưỡng ảnh gray\n",
    "otsuthresh = cv2.threshold(gaussianblur, 0, 255, cv2.THRESH_BINARY_INV + cv2.THRESH_OTSU)[1]\n",
    "\n",
    "# tạo kernel hình vuông\n",
    "kernel = cv2.getStructuringElement(cv2.MORPH_RECT, (5,5))\n",
    "\n",
    "# sử dụng closing transformers \n",
    "closed = cv2.morphologyEx(otsuthresh, cv2.MORPH_CLOSE, kernel, iterations=3)\n",
    "\n",
    "# tìm các đường viền đóng trong ảnh \n",
    "contours = cv2.findContours(closed, cv2.RETR_EXTERNAL, cv2.CHAIN_APPROX_SIMPLE)\n",
    "\n",
    "if len(contours) == 2:\n",
    "    contours = contours[0]\n",
    "else:\n",
    "    contours = contours[1]\n",
    "\n",
    "qrcode = []\n",
    "\n",
    "approx_list = []\n",
    "\n",
    "for cnt in contours:\n",
    "    # tính chu vi của đường viền \n",
    "    perim = cv2.arcLength(cnt, True)\n",
    "    # làm mượt đường viền \n",
    "    approx = cv2.approxPolyDP(cnt, 0.05 * perim, True)\n",
    "\n",
    "    x,y,w,h = cv2.boundingRect(approx)\n",
    "    area = cv2.contourArea(cnt)\n",
    "    ratio = w / float(h)\n",
    "\n",
    "    # kiểm tra xem đường viền có 4 đỉnh và diện tích lớn hơn 1000, tỉ lệ giữa chiều cao và chiều rộng có nhỏ hơn ngưỡng cho trước không (điều kiện hình vuông)\n",
    "    if len(approx) == 4 and area > 1000 and (ratio > .95 and ratio < 1.05):\n",
    "        #rec = [area, x, y, w, h] \n",
    "        rec = [area, approx]\n",
    "        approx_list.append(approx)\n",
    "        # qrcode.append(rec)\n",
    "        qrcode.append(rec)\n",
    "\n",
    "# sắp xếp theo chiều giảm dần\n",
    "qrcode = sorted(qrcode, key=lambda x: x[0], reverse=True)\n",
    "\n",
    "# lấy ra 3 hình vuông có kích thước gần giống nhau và lớn nhất\n",
    "rec_list = qrcode[:3]\n",
    "\n",
    "# tạo 1 list gồm 12 đỉnh \n",
    "list_cor = []\n",
    "for item in rec_list:\n",
    "    sub_array = item[1].tolist()\n",
    "    for sub_element in sub_array:\n",
    "        list_cor.append(sub_element)\n",
    "\n",
    "\n",
    "# Lấy ra phần tử có giá trị thực lớn nhất\n",
    "# max_element = max(qrcode, key=lambda x: x[0])\n",
    "\n",
    "# x, y, w, h = max_element[1:]\n",
    "\n",
    "# cv2.rectangle(img, (x, y), (x + w, y + h), (0, 255, 0), 4)\n",
    "\n",
    "# cv2_imshow(img)"
   ]
  },
  {
   "cell_type": "code",
   "execution_count": 6,
   "metadata": {},
   "outputs": [],
   "source": [
    "centroids = []\n",
    "for square in rec_list:\n",
    "    x_sum = 0\n",
    "    y_sum = 0\n",
    "    for point in square[1]:\n",
    "      print(point[0][1])\n",
    "      x_sum += point[0][0]\n",
    "      y_sum += point[0][1]\n",
    "    centroid_x = x_sum / len(square[1])\n",
    "    centroid_y = y_sum / len(square[1])\n",
    "    centroids.append([centroid_x, centroid_y])\n",
    "\n",
    "# In kết quả\n",
    "for i, centroid in enumerate(centroids):\n",
    "    print(\"Tọa độ tâm của hình vuông\", i+1, \"là:\", centroid)"
   ]
  },
  {
   "cell_type": "code",
   "execution_count": 19,
   "metadata": {},
   "outputs": [
    {
     "data": {
      "text/plain": [
       "array([ 2, -1,  1, -1], dtype=int32)"
      ]
     },
     "execution_count": 19,
     "metadata": {},
     "output_type": "execute_result"
    }
   ],
   "source": [
    "# Tìm điểm có tọa độ x nhỏ nhất\n",
    "min_x_point = min(list_cor, key=lambda p: p[0][0])\n",
    "\n",
    "# Tìm điểm có tọa độ y nhỏ nhất\n",
    "min_y_point = min(list_cor, key=lambda p: p[0][1])\n",
    "\n",
    "# Tìm điểm có tọa độ y lớn nhất\n",
    "max_y_point = max(list_cor, key=lambda p: p[0][1])\n",
    "\n",
    "midpoint = [(min_y_point[0][0] + max_y_point[0][0]) // 2, (min_y_point[0][1] + max_y_point[0][1]) // 2]\n",
    "\n",
    "# tìm điểm còn lại \n",
    "max_x_point = symmetric_point = [2 * midpoint[0] - min_x_point[0][0], 2 * midpoint[1] - min_x_point[0][1]]"
   ]
  },
  {
   "cell_type": "code",
   "execution_count": 17,
   "metadata": {},
   "outputs": [
    {
     "data": {
      "text/plain": [
       "2885"
      ]
     },
     "execution_count": 17,
     "metadata": {},
     "output_type": "execute_result"
    }
   ],
   "source": [
    "import cv2\n",
    "import numpy as np\n",
    "\n",
    "# Đường nối các điểm thành tam giác\n",
    "points = np.array([min_x_point[0], min_y_point[0], max_x_point, max_y_point[0]], np.int32)\n",
    "\n",
    "# Đọc hình ảnh\n",
    "img = cv2.imread(\"/content/drive/MyDrive/qr_codes_extract/input.jpeg\")\n",
    "\n",
    "# Vẽ tam giác lên hình ảnh\n",
    "cv2.polylines(img, [points], isClosed=True, color=(0, 255, 0), thickness=10)\n",
    "\n",
    "# Hiển thị hình ảnh\n",
    "cv2_imshow(img)"
   ]
  },
  {
   "cell_type": "code",
   "execution_count": null,
   "metadata": {},
   "outputs": [],
   "source": [
    "# Tạo một bản sao của ảnh để vẽ các viền lên đó\n",
    "contour_image = img.copy()\n",
    "\n",
    "# Vẽ các viền lên ảnh\n",
    "cv2.drawContours(contour_image, approx_list, -1, (0, 255, 0), 2)\n",
    "\n",
    "# Hiển thị ảnh với các viền đã vẽ\n",
    "cv2_imshow(contour_image)"
   ]
  },
  {
   "cell_type": "markdown",
   "metadata": {},
   "source": [
    "### Creating heatmap"
   ]
  },
  {
   "cell_type": "code",
   "execution_count": null,
   "metadata": {},
   "outputs": [],
   "source": [
    "# Tính toán tọa độ tâm của hình vuông\n",
    "center_x = np.mean(points[:, 0])\n",
    "center_y = np.mean(points[:, 1])\n",
    "\n",
    "center = (center_x, center_y)\n",
    "\n",
    "print(\"Tọa độ tâm của hình vuông:\", center)"
   ]
  },
  {
   "cell_type": "code",
   "execution_count": null,
   "metadata": {},
   "outputs": [],
   "source": [
    "import cv2\n",
    "import numpy as np\n",
    "import matplotlib.pyplot as plt\n",
    "\n",
    "# Đường dẫn tới hình ảnh đầu vào\n",
    "image_path = \"/content/drive/MyDrive/qr_codes_extract/input.jpeg\"\n",
    "\n",
    "# Kích thước của hình vuông\n",
    "square_size = 400\n",
    "\n",
    "# Đọc hình ảnh đầu vào\n",
    "image = cv2.imread(image_path)\n",
    "\n",
    "# Tạo một ma trận trống có kích thước của hình ảnh\n",
    "heatmap = np.zeros((image.shape[0], image.shape[1]))\n",
    "\n",
    "# Tính toán giá trị intensity dựa trên khoảng cách tới tâm hình vuông\n",
    "for i in range(image.shape[0]):\n",
    "    for j in range(image.shape[1]):\n",
    "        distance = np.sqrt((i - center_y) ** 2 + (j - center_x) ** 2)\n",
    "        intensity = np.exp(-distance / square_size)\n",
    "        heatmap[i, j] = intensity\n",
    "\n",
    "# Hiển thị biểu đồ heatmap trên hình ảnh\n",
    "heatmap_rgb = cv2.applyColorMap((heatmap * 255).astype(np.uint8), cv2.COLORMAP_HOT)\n",
    "green_image = np.full_like(image, (255, 0, 0))\n",
    "blended_image = cv2.addWeighted(green_image, 0.7, heatmap_rgb, 0.3, 0)\n",
    "\n",
    "# Hiển thị hình ảnh\n",
    "plt.imshow(cv2.cvtColor(blended_image, cv2.COLOR_BGR2RGB))\n",
    "plt.axis('off')\n",
    "plt.show()"
   ]
  }
 ],
 "metadata": {
  "kernelspec": {
   "display_name": "venv",
   "language": "python",
   "name": "python3"
  },
  "language_info": {
   "codemirror_mode": {
    "name": "ipython",
    "version": 3
   },
   "file_extension": ".py",
   "mimetype": "text/x-python",
   "name": "python",
   "nbconvert_exporter": "python",
   "pygments_lexer": "ipython3",
   "version": "3.10.10"
  },
  "orig_nbformat": 4
 },
 "nbformat": 4,
 "nbformat_minor": 2
}
